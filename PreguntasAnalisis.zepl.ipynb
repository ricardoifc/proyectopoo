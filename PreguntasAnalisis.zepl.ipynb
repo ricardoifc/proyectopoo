﻿{
  "metadata": {
    "name": "PreguntasAnalisis",
    "kernelspec": {
      "display_name": "Scala",
      "language": "scala",
      "name": "spark2-scala"
    },
    "language_info": {
      "codemirror_mode": "text/x-scala",
      "file_extension": ".scala",
      "mimetype": "text/x-scala",
      "name": "scala",
      "pygments_lexer": "scala"
    }
  },
  "nbformat": 4,
  "nbformat_minor": 2,
  "cells": [
    {
      "cell_type": "code",
      "execution_count": 0,
      "metadata": {
        "autoscroll": "auto"
      },
      "outputs": [],
      "source": "import org.apache.spark.sql.types._\nval myDataSchema \u003d StructType(\n    Array(\n        StructField(\"id_persona\", DecimalType(26, 0), true), \n        StructField(\"anio\", IntegerType, true), \n        StructField(\"mes\", IntegerType, true), \n        StructField(\"provincia\", IntegerType, true), \n        StructField(\"canton\", IntegerType, true), \n        StructField(\"area\", StringType, true), \n        StructField(\"genero\", StringType, true), \n        StructField(\"edad\", IntegerType, true), \n        StructField(\"estado_civil\", StringType, true), \n        StructField(\"nivel_de_instruccion\", StringType, true), \n        StructField(\"etnia\", StringType, true), \n        StructField(\"ingreso_laboral\", IntegerType, true), \n        StructField(\"condicion_actividad\", StringType, true), \n        StructField(\"sectorizacion\", StringType, true), \n        StructField(\"grupo_ocupacion\", StringType, true), \n        StructField(\"rama_actividad\", StringType, true), \n        StructField(\"factor_expansion\", DoubleType, true)\n    ));"
    },
    {
      "cell_type": "code",
      "execution_count": 1,
      "metadata": {
        "autoscroll": "auto"
      },
      "outputs": [],
      "source": "val data \u003d spark\n  .read\n  .schema(myDataSchema)\n//  .option(\"inferSchema\", true)\n  .option(\"header\", \"true\")\n  .option(\"delimiter\", \"\\t\")\n  .csv(\"/home/ricardoifc/Documentos/ProyectoProAv/datos_proyecto/Datos_ENEMDU_PEA_v2.csv\");"
    },
    {
      "cell_type": "code",
      "execution_count": 2,
      "metadata": {
        "autoscroll": "auto"
      },
      "outputs": [],
      "source": "data.groupBy(\"etnia\")\n.count()\n.sort(\"etnia\")\n.show()"
    },
    {
      "cell_type": "code",
      "execution_count": 3,
      "metadata": {
        "autoscroll": "auto"
      },
      "outputs": [],
      "source": "val dataI \u003d data.where($\"etnia\" \u003d\u003d\u003d \"1 - Indígena\")\nprint(dataI.count)"
    },
    {
      "cell_type": "code",
      "execution_count": 4,
      "metadata": {
        "autoscroll": "auto"
      },
      "outputs": [],
      "source": "val dataA \u003d data.where($\"etnia\" \u003d\u003d\u003d \"2 - Afroecuatoriano\")\nprint(dataA.count)"
    },
    {
      "cell_type": "code",
      "execution_count": 5,
      "metadata": {
        "autoscroll": "auto"
      },
      "outputs": [],
      "source": "print(f\"${(dataI.count / data.count.toDouble) * 100}%.2f%% Indigenas \\n${(dataA.count / data.count.toDouble) * 100}%.2f%% Afrodesendientes \\n\")"
    },
    {
      "cell_type": "code",
      "execution_count": 6,
      "metadata": {
        "autoscroll": "auto"
      },
      "outputs": [],
      "source": "dataI.select(avg(\"ingreso_laboral\")).show"
    },
    {
      "cell_type": "code",
      "execution_count": 7,
      "metadata": {
        "autoscroll": "auto"
      },
      "outputs": [],
      "source": "dataA.select(avg(\"ingreso_laboral\")).show"
    },
    {
      "cell_type": "code",
      "execution_count": 8,
      "metadata": {
        "autoscroll": "auto"
      },
      "outputs": [],
      "source": "var pMenorASBI \u003d (dataI.where($\"ingreso_laboral\" \u003c 400).count / dataI.count.toDouble) * 100 "
    },
    {
      "cell_type": "code",
      "execution_count": 9,
      "metadata": {
        "autoscroll": "auto"
      },
      "outputs": [],
      "source": "var pMenorASBA \u003d (dataA.where($\"ingreso_laboral\" \u003c 400).count / dataA.count.toDouble) * 100 "
    },
    {
      "cell_type": "code",
      "execution_count": 10,
      "metadata": {
        "autoscroll": "auto"
      },
      "outputs": [],
      "source": "var pMayorrASBI \u003d (dataI.where($\"ingreso_laboral\" \u003e 400).count / dataI.count.toDouble) * 100 "
    },
    {
      "cell_type": "code",
      "execution_count": 11,
      "metadata": {
        "autoscroll": "auto"
      },
      "outputs": [],
      "source": "var pMayorASBA \u003d (dataA.where($\"ingreso_laboral\" \u003e 400).count / dataA.count.toDouble) * 100 "
    },
    {
      "cell_type": "code",
      "execution_count": 12,
      "metadata": {
        "autoscroll": "auto"
      },
      "outputs": [],
      "source": "var pIgualASBI \u003d (dataI.where($\"ingreso_laboral\" \u003d\u003d\u003d 400).count / dataI.count.toDouble) * 100 "
    },
    {
      "cell_type": "code",
      "execution_count": 13,
      "metadata": {
        "autoscroll": "auto"
      },
      "outputs": [],
      "source": "var pIgualASBA \u003d (dataA.where($\"ingreso_laboral\" \u003d\u003d\u003d 400).count / dataA.count.toDouble) * 100 "
    },
    {
      "cell_type": "code",
      "execution_count": 14,
      "metadata": {
        "autoscroll": "auto"
      },
      "outputs": [],
      "source": "dataI.select(min(\"ingreso_laboral\"), max(\"ingreso_laboral\")).show"
    },
    {
      "cell_type": "code",
      "execution_count": 15,
      "metadata": {
        "autoscroll": "auto"
      },
      "outputs": [],
      "source": "dataA.select(min(\"ingreso_laboral\"), max(\"ingreso_laboral\")).show"
    },
    {
      "cell_type": "code",
      "execution_count": 16,
      "metadata": {
        "autoscroll": "auto"
      },
      "outputs": [],
      "source": "dataI.groupBy(\"etnia\", \"grupo_ocupacion\").count().sort(\"grupo_ocupacion\").show()"
    },
    {
      "cell_type": "code",
      "execution_count": 17,
      "metadata": {
        "autoscroll": "auto"
      },
      "outputs": [],
      "source": "dataA.groupBy(\"etnia\", \"grupo_ocupacion\").count().sort(\"grupo_ocupacion\").show()"
    },
    {
      "cell_type": "code",
      "execution_count": 18,
      "metadata": {
        "autoscroll": "auto"
      },
      "outputs": [],
      "source": "dataI.groupBy(\"etnia\", \"rama_actividad\").count().sort(\"rama_actividad\").show()"
    },
    {
      "cell_type": "code",
      "execution_count": 19,
      "metadata": {
        "autoscroll": "auto"
      },
      "outputs": [],
      "source": "dataA.groupBy(\"etnia\", \"rama_actividad\").count().sort(\"rama_actividad\").show()"
    },
    {
      "cell_type": "code",
      "execution_count": 20,
      "metadata": {
        "autoscroll": "auto"
      },
      "outputs": [],
      "source": "dataI.select(max(\"Ingreso_laboral\")).as(\"Min\")"
    },
    {
      "cell_type": "code",
      "execution_count": 21,
      "metadata": {
        "autoscroll": "auto"
      },
      "outputs": [],
      "source": "dataI.groupBy(\"etnia\", \"genero\").count().sort(\"genero\").show()"
    },
    {
      "cell_type": "code",
      "execution_count": 22,
      "metadata": {
        "autoscroll": "auto"
      },
      "outputs": [],
      "source": "dataA.groupBy(\"etnia\", \"genero\").count().sort(\"genero\").show()"
    },
    {
      "cell_type": "code",
      "execution_count": 23,
      "metadata": {
        "autoscroll": "auto"
      },
      "outputs": [],
      "source": "dataI.where($\"Ingreso_laboral\" \u003e\u003d 10000).count"
    },
    {
      "cell_type": "code",
      "execution_count": 24,
      "metadata": {
        "autoscroll": "auto"
      },
      "outputs": [],
      "source": "dataA.where($\"Ingreso_laboral\" \u003e\u003d 10000).count"
    }
    
  ]
}
